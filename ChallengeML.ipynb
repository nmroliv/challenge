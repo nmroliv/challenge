{
 "cells": [
  {
   "cell_type": "code",
   "execution_count": 1,
   "metadata": {},
   "outputs": [],
   "source": [
    "import pandas as pd\n",
    "import numpy as np\n",
    "import seaborn as sns\n",
    "import matplotlib.pyplot as plt\n",
    "import xgboost as xgb\n",
    "from math import ceil\n",
    "from sklearn.svm import SVC\n",
    "from sklearn.linear_model import LogisticRegression\n",
    "from sklearn.model_selection import StratifiedKFold, KFold, train_test_split, GridSearchCV\n",
    "from sklearn import metrics\n",
    "from sklearn import preprocessing\n",
    "from sklearn.pipeline import make_pipeline\n",
    "import itertools as it\n",
    "import pickle\n",
    "\n",
    "%matplotlib inline\n"
   ]
  },
  {
   "cell_type": "code",
   "execution_count": 2,
   "metadata": {},
   "outputs": [],
   "source": [
    "tab = pd.read_csv(\"DatasetML.csv\")"
   ]
  },
  {
   "cell_type": "code",
   "execution_count": 3,
   "metadata": {},
   "outputs": [
    {
     "data": {
      "text/html": [
       "<div>\n",
       "<style scoped>\n",
       "    .dataframe tbody tr th:only-of-type {\n",
       "        vertical-align: middle;\n",
       "    }\n",
       "\n",
       "    .dataframe tbody tr th {\n",
       "        vertical-align: top;\n",
       "    }\n",
       "\n",
       "    .dataframe thead th {\n",
       "        text-align: right;\n",
       "    }\n",
       "</style>\n",
       "<table border=\"1\" class=\"dataframe\">\n",
       "  <thead>\n",
       "    <tr style=\"text-align: right;\">\n",
       "      <th></th>\n",
       "      <th>C1</th>\n",
       "      <th>N1</th>\n",
       "      <th>C2</th>\n",
       "      <th>C3</th>\n",
       "      <th>N2</th>\n",
       "      <th>C4</th>\n",
       "      <th>C5</th>\n",
       "      <th>N3</th>\n",
       "      <th>C5.1</th>\n",
       "      <th>C6</th>\n",
       "      <th>...</th>\n",
       "      <th>C7</th>\n",
       "      <th>N5</th>\n",
       "      <th>C8</th>\n",
       "      <th>C9</th>\n",
       "      <th>N6</th>\n",
       "      <th>C10</th>\n",
       "      <th>N7</th>\n",
       "      <th>C11</th>\n",
       "      <th>C12</th>\n",
       "      <th>LABEL</th>\n",
       "    </tr>\n",
       "  </thead>\n",
       "  <tbody>\n",
       "    <tr>\n",
       "      <th>0</th>\n",
       "      <td>Z11</td>\n",
       "      <td>6</td>\n",
       "      <td>Z34</td>\n",
       "      <td>Z43</td>\n",
       "      <td>1169</td>\n",
       "      <td>Z65</td>\n",
       "      <td>Z75</td>\n",
       "      <td>4</td>\n",
       "      <td>Z93</td>\n",
       "      <td>Z101</td>\n",
       "      <td>...</td>\n",
       "      <td>Z121</td>\n",
       "      <td>67</td>\n",
       "      <td>Z143</td>\n",
       "      <td>Z152</td>\n",
       "      <td>2</td>\n",
       "      <td>Z173</td>\n",
       "      <td>1</td>\n",
       "      <td>Z192</td>\n",
       "      <td>Z201</td>\n",
       "      <td>1</td>\n",
       "    </tr>\n",
       "    <tr>\n",
       "      <th>1</th>\n",
       "      <td>Z12</td>\n",
       "      <td>48</td>\n",
       "      <td>Z32</td>\n",
       "      <td>Z43</td>\n",
       "      <td>5951</td>\n",
       "      <td>Z61</td>\n",
       "      <td>Z73</td>\n",
       "      <td>2</td>\n",
       "      <td>Z92</td>\n",
       "      <td>Z101</td>\n",
       "      <td>...</td>\n",
       "      <td>Z121</td>\n",
       "      <td>22</td>\n",
       "      <td>Z143</td>\n",
       "      <td>Z152</td>\n",
       "      <td>1</td>\n",
       "      <td>Z173</td>\n",
       "      <td>1</td>\n",
       "      <td>Z191</td>\n",
       "      <td>Z201</td>\n",
       "      <td>2</td>\n",
       "    </tr>\n",
       "    <tr>\n",
       "      <th>2</th>\n",
       "      <td>Z14</td>\n",
       "      <td>12</td>\n",
       "      <td>Z34</td>\n",
       "      <td>Z46</td>\n",
       "      <td>2096</td>\n",
       "      <td>Z61</td>\n",
       "      <td>Z74</td>\n",
       "      <td>2</td>\n",
       "      <td>Z93</td>\n",
       "      <td>Z101</td>\n",
       "      <td>...</td>\n",
       "      <td>Z121</td>\n",
       "      <td>49</td>\n",
       "      <td>Z143</td>\n",
       "      <td>Z152</td>\n",
       "      <td>1</td>\n",
       "      <td>Z172</td>\n",
       "      <td>2</td>\n",
       "      <td>Z191</td>\n",
       "      <td>Z201</td>\n",
       "      <td>1</td>\n",
       "    </tr>\n",
       "    <tr>\n",
       "      <th>3</th>\n",
       "      <td>Z11</td>\n",
       "      <td>42</td>\n",
       "      <td>Z32</td>\n",
       "      <td>Z42</td>\n",
       "      <td>7882</td>\n",
       "      <td>Z61</td>\n",
       "      <td>Z74</td>\n",
       "      <td>2</td>\n",
       "      <td>Z93</td>\n",
       "      <td>Z103</td>\n",
       "      <td>...</td>\n",
       "      <td>Z122</td>\n",
       "      <td>45</td>\n",
       "      <td>Z143</td>\n",
       "      <td>Z153</td>\n",
       "      <td>1</td>\n",
       "      <td>Z173</td>\n",
       "      <td>2</td>\n",
       "      <td>Z191</td>\n",
       "      <td>Z201</td>\n",
       "      <td>1</td>\n",
       "    </tr>\n",
       "    <tr>\n",
       "      <th>4</th>\n",
       "      <td>Z11</td>\n",
       "      <td>24</td>\n",
       "      <td>Z33</td>\n",
       "      <td>Z40</td>\n",
       "      <td>4870</td>\n",
       "      <td>Z61</td>\n",
       "      <td>Z73</td>\n",
       "      <td>3</td>\n",
       "      <td>Z93</td>\n",
       "      <td>Z101</td>\n",
       "      <td>...</td>\n",
       "      <td>Z124</td>\n",
       "      <td>53</td>\n",
       "      <td>Z143</td>\n",
       "      <td>Z153</td>\n",
       "      <td>2</td>\n",
       "      <td>Z173</td>\n",
       "      <td>2</td>\n",
       "      <td>Z191</td>\n",
       "      <td>Z201</td>\n",
       "      <td>2</td>\n",
       "    </tr>\n",
       "  </tbody>\n",
       "</table>\n",
       "<p>5 rows × 21 columns</p>\n",
       "</div>"
      ],
      "text/plain": [
       "    C1  N1   C2   C3    N2   C4   C5  N3 C5.1    C6  ...    C7  N5    C8  \\\n",
       "0  Z11   6  Z34  Z43  1169  Z65  Z75   4  Z93  Z101  ...  Z121  67  Z143   \n",
       "1  Z12  48  Z32  Z43  5951  Z61  Z73   2  Z92  Z101  ...  Z121  22  Z143   \n",
       "2  Z14  12  Z34  Z46  2096  Z61  Z74   2  Z93  Z101  ...  Z121  49  Z143   \n",
       "3  Z11  42  Z32  Z42  7882  Z61  Z74   2  Z93  Z103  ...  Z122  45  Z143   \n",
       "4  Z11  24  Z33  Z40  4870  Z61  Z73   3  Z93  Z101  ...  Z124  53  Z143   \n",
       "\n",
       "     C9 N6   C10 N7   C11   C12 LABEL  \n",
       "0  Z152  2  Z173  1  Z192  Z201     1  \n",
       "1  Z152  1  Z173  1  Z191  Z201     2  \n",
       "2  Z152  1  Z172  2  Z191  Z201     1  \n",
       "3  Z153  1  Z173  2  Z191  Z201     1  \n",
       "4  Z153  2  Z173  2  Z191  Z201     2  \n",
       "\n",
       "[5 rows x 21 columns]"
      ]
     },
     "execution_count": 3,
     "metadata": {},
     "output_type": "execute_result"
    }
   ],
   "source": [
    "tab.head()"
   ]
  },
  {
   "cell_type": "code",
   "execution_count": 4,
   "metadata": {},
   "outputs": [
    {
     "name": "stdout",
     "output_type": "stream",
     "text": [
      "<class 'pandas.core.frame.DataFrame'>\n",
      "RangeIndex: 1000 entries, 0 to 999\n",
      "Data columns (total 21 columns):\n",
      "C1       1000 non-null object\n",
      "N1       1000 non-null int64\n",
      "C2       1000 non-null object\n",
      "C3       1000 non-null object\n",
      "N2       1000 non-null int64\n",
      "C4       1000 non-null object\n",
      "C5       1000 non-null object\n",
      "N3       1000 non-null int64\n",
      "C5.1     1000 non-null object\n",
      "C6       1000 non-null object\n",
      "N4       1000 non-null int64\n",
      "C7       1000 non-null object\n",
      "N5       1000 non-null int64\n",
      "C8       1000 non-null object\n",
      "C9       1000 non-null object\n",
      "N6       1000 non-null int64\n",
      "C10      1000 non-null object\n",
      "N7       1000 non-null int64\n",
      "C11      1000 non-null object\n",
      "C12      1000 non-null object\n",
      "LABEL    1000 non-null int64\n",
      "dtypes: int64(8), object(13)\n",
      "memory usage: 164.2+ KB\n"
     ]
    }
   ],
   "source": [
    "tab.info()\n",
    "# 1000 rows\n",
    "# categorical variables seem to start their name by C\n",
    "# numerical variables seem to start their name by N\n",
    "# there no missing values"
   ]
  },
  {
   "cell_type": "code",
   "execution_count": 5,
   "metadata": {},
   "outputs": [
    {
     "data": {
      "text/plain": [
       "C1       0\n",
       "N1       0\n",
       "C2       0\n",
       "C3       0\n",
       "N2       0\n",
       "C4       0\n",
       "C5       0\n",
       "N3       0\n",
       "C5.1     0\n",
       "C6       0\n",
       "N4       0\n",
       "C7       0\n",
       "N5       0\n",
       "C8       0\n",
       "C9       0\n",
       "N6       0\n",
       "C10      0\n",
       "N7       0\n",
       "C11      0\n",
       "C12      0\n",
       "LABEL    0\n",
       "dtype: int64"
      ]
     },
     "execution_count": 5,
     "metadata": {},
     "output_type": "execute_result"
    }
   ],
   "source": [
    "# confirm number of missing values\n",
    "tab.isna().sum()"
   ]
  },
  {
   "cell_type": "code",
   "execution_count": 6,
   "metadata": {},
   "outputs": [
    {
     "data": {
      "text/plain": [
       "C1         4\n",
       "N1        33\n",
       "C2         5\n",
       "C3        10\n",
       "N2       921\n",
       "C4         5\n",
       "C5         5\n",
       "N3         4\n",
       "C5.1       4\n",
       "C6         3\n",
       "N4         4\n",
       "C7         4\n",
       "N5        53\n",
       "C8         3\n",
       "C9         3\n",
       "N6         4\n",
       "C10        4\n",
       "N7         2\n",
       "C11        2\n",
       "C12        2\n",
       "LABEL      2\n",
       "dtype: int64"
      ]
     },
     "execution_count": 6,
     "metadata": {},
     "output_type": "execute_result"
    }
   ],
   "source": [
    "# number of unique values for each attribute\n",
    "tab.apply(lambda x: len(x.unique()))\n",
    "# only N1, N2 and N5 have a wider range of values\n",
    "# other attributes may represent categories"
   ]
  },
  {
   "cell_type": "code",
   "execution_count": 7,
   "metadata": {},
   "outputs": [
    {
     "name": "stdout",
     "output_type": "stream",
     "text": [
      "    C1   C2   C3   C4   C5 C5.1    C6    C7    C8    C9   C10   C11   C12\n",
      "0  Z11  Z34  Z43  Z65  Z75  Z93  Z101  Z121  Z143  Z152  Z173  Z192  Z201\n",
      "1  Z12  Z32  Z43  Z61  Z73  Z92  Z101  Z121  Z143  Z152  Z173  Z191  Z201\n",
      "2  Z14  Z34  Z46  Z61  Z74  Z93  Z101  Z121  Z143  Z152  Z172  Z191  Z201\n",
      "3  Z11  Z32  Z42  Z61  Z74  Z93  Z103  Z122  Z143  Z153  Z173  Z191  Z201\n",
      "4  Z11  Z33  Z40  Z61  Z73  Z93  Z101  Z124  Z143  Z153  Z173  Z191  Z201\n",
      "Z14    394\n",
      "Z11    274\n",
      "Z12    269\n",
      "Z13     63\n",
      "Name: C1, dtype: int64\n",
      "Z32    530\n",
      "Z34    293\n",
      "Z33     88\n",
      "Z31     49\n",
      "Z30     40\n",
      "Name: C2, dtype: int64\n",
      "Z43     280\n",
      "Z40     234\n",
      "Z42     181\n",
      "Z41     103\n",
      "Z49      97\n",
      "Z46      50\n",
      "Z45      22\n",
      "Z410     12\n",
      "Z44      12\n",
      "Z48       9\n",
      "Name: C3, dtype: int64\n",
      "Z61    603\n",
      "Z65    183\n",
      "Z62    103\n",
      "Z63     63\n",
      "Z64     48\n",
      "Name: C4, dtype: int64\n",
      "Z73    339\n",
      "Z75    253\n",
      "Z74    174\n",
      "Z72    172\n",
      "Z71     62\n",
      "Name: C5, dtype: int64\n",
      "Z93    548\n",
      "Z92    310\n",
      "Z94     92\n",
      "Z91     50\n",
      "Name: C5.1, dtype: int64\n",
      "Z101    907\n",
      "Z103     52\n",
      "Z102     41\n",
      "Name: C6, dtype: int64\n",
      "Z123    332\n",
      "Z121    282\n",
      "Z122    232\n",
      "Z124    154\n",
      "Name: C7, dtype: int64\n",
      "Z143    814\n",
      "Z141    139\n",
      "Z142     47\n",
      "Name: C8, dtype: int64\n",
      "Z152    713\n",
      "Z151    179\n",
      "Z153    108\n",
      "Name: C9, dtype: int64\n",
      "Z173    630\n",
      "Z172    200\n",
      "Z174    148\n",
      "Z171     22\n",
      "Name: C10, dtype: int64\n",
      "Z191    596\n",
      "Z192    404\n",
      "Name: C11, dtype: int64\n",
      "Z201    963\n",
      "Z202     37\n",
      "Name: C12, dtype: int64\n"
     ]
    }
   ],
   "source": [
    "cat_v = tab.columns[tab.dtypes==\"object\"]\n",
    "print(tab[cat_v].head())\n",
    "for a in cat_v:\n",
    "    print(tab[a].value_counts())\n",
    "\n",
    "# categorical variables are composed by: Z+(column number)+quantitative value (e.g., Z101 = Z+10+1)\n"
   ]
  },
  {
   "cell_type": "code",
   "execution_count": 8,
   "metadata": {},
   "outputs": [
    {
     "name": "stdout",
     "output_type": "stream",
     "text": [
      "<class 'pandas.core.frame.DataFrame'>\n",
      "RangeIndex: 1000 entries, 0 to 999\n",
      "Data columns (total 21 columns):\n",
      "C1       1000 non-null int64\n",
      "N1       1000 non-null int64\n",
      "C2       1000 non-null int64\n",
      "C3       1000 non-null int64\n",
      "N2       1000 non-null int64\n",
      "C4       1000 non-null int64\n",
      "C5       1000 non-null int64\n",
      "N3       1000 non-null int64\n",
      "C5.1     1000 non-null int64\n",
      "C6       1000 non-null int64\n",
      "N4       1000 non-null int64\n",
      "C7       1000 non-null int64\n",
      "N5       1000 non-null int64\n",
      "C8       1000 non-null int64\n",
      "C9       1000 non-null int64\n",
      "N6       1000 non-null int64\n",
      "C10      1000 non-null int64\n",
      "N7       1000 non-null int64\n",
      "C11      1000 non-null int64\n",
      "C12      1000 non-null int64\n",
      "LABEL    1000 non-null int64\n",
      "dtypes: int64(21)\n",
      "memory usage: 164.2 KB\n",
      "None\n",
      "   C1  N1  C2  C3    N2  C4  C5  N3  C5.1  C6  ...  C7  N5  C8  C9  N6  C10  \\\n",
      "0   1   6   4   3  1169   5   5   4     3   1  ...   1  67   3   2   2    3   \n",
      "1   2  48   2   3  5951   1   3   2     2   1  ...   1  22   3   2   1    3   \n",
      "2   4  12   4   6  2096   1   4   2     3   1  ...   1  49   3   2   1    2   \n",
      "3   1  42   2   2  7882   1   4   2     3   3  ...   2  45   3   3   1    3   \n",
      "4   1  24   3   0  4870   1   3   3     3   1  ...   4  53   3   3   2    3   \n",
      "\n",
      "   N7  C11  C12  LABEL  \n",
      "0   1    2    1      1  \n",
      "1   1    1    1      2  \n",
      "2   2    1    1      1  \n",
      "3   2    1    1      1  \n",
      "4   2    1    1      2  \n",
      "\n",
      "[5 rows x 21 columns]\n"
     ]
    }
   ],
   "source": [
    "# Z+column number is present in whole column so we don't lose information by removing it\n",
    "for i in range(tab.shape[1]):\n",
    "    tab.iloc[:,i] = tab.iloc[:,i].replace(to_replace=\"^Z\"+str(i+1),value=\"\",regex=True)\n",
    "\n",
    "tab = tab.astype(\"int64\")\n",
    "print(tab.info())\n",
    "print(tab.head())"
   ]
  },
  {
   "cell_type": "code",
   "execution_count": 9,
   "metadata": {},
   "outputs": [
    {
     "data": {
      "text/html": [
       "<div>\n",
       "<style scoped>\n",
       "    .dataframe tbody tr th:only-of-type {\n",
       "        vertical-align: middle;\n",
       "    }\n",
       "\n",
       "    .dataframe tbody tr th {\n",
       "        vertical-align: top;\n",
       "    }\n",
       "\n",
       "    .dataframe thead th {\n",
       "        text-align: right;\n",
       "    }\n",
       "</style>\n",
       "<table border=\"1\" class=\"dataframe\">\n",
       "  <thead>\n",
       "    <tr style=\"text-align: right;\">\n",
       "      <th></th>\n",
       "      <th>C1</th>\n",
       "      <th>N1</th>\n",
       "      <th>C2</th>\n",
       "      <th>C3</th>\n",
       "      <th>N2</th>\n",
       "      <th>C4</th>\n",
       "      <th>C5</th>\n",
       "      <th>N3</th>\n",
       "      <th>C5.1</th>\n",
       "      <th>C6</th>\n",
       "      <th>...</th>\n",
       "      <th>C7</th>\n",
       "      <th>N5</th>\n",
       "      <th>C8</th>\n",
       "      <th>C9</th>\n",
       "      <th>N6</th>\n",
       "      <th>C10</th>\n",
       "      <th>N7</th>\n",
       "      <th>C11</th>\n",
       "      <th>C12</th>\n",
       "      <th>LABEL</th>\n",
       "    </tr>\n",
       "  </thead>\n",
       "  <tbody>\n",
       "    <tr>\n",
       "      <th>count</th>\n",
       "      <td>1000.000000</td>\n",
       "      <td>1000.000000</td>\n",
       "      <td>1000.00000</td>\n",
       "      <td>1000.000000</td>\n",
       "      <td>1000.000000</td>\n",
       "      <td>1000.000000</td>\n",
       "      <td>1000.000000</td>\n",
       "      <td>1000.000000</td>\n",
       "      <td>1000.00000</td>\n",
       "      <td>1000.000000</td>\n",
       "      <td>...</td>\n",
       "      <td>1000.000000</td>\n",
       "      <td>1000.000000</td>\n",
       "      <td>1000.000000</td>\n",
       "      <td>1000.000000</td>\n",
       "      <td>1000.000000</td>\n",
       "      <td>1000.000000</td>\n",
       "      <td>1000.000000</td>\n",
       "      <td>1000.000000</td>\n",
       "      <td>1000.000000</td>\n",
       "      <td>1000.000000</td>\n",
       "    </tr>\n",
       "    <tr>\n",
       "      <th>mean</th>\n",
       "      <td>2.577000</td>\n",
       "      <td>20.903000</td>\n",
       "      <td>2.54500</td>\n",
       "      <td>2.828000</td>\n",
       "      <td>3271.258000</td>\n",
       "      <td>2.105000</td>\n",
       "      <td>3.384000</td>\n",
       "      <td>2.973000</td>\n",
       "      <td>2.68200</td>\n",
       "      <td>1.145000</td>\n",
       "      <td>...</td>\n",
       "      <td>2.358000</td>\n",
       "      <td>35.546000</td>\n",
       "      <td>2.675000</td>\n",
       "      <td>1.929000</td>\n",
       "      <td>1.407000</td>\n",
       "      <td>2.904000</td>\n",
       "      <td>1.155000</td>\n",
       "      <td>1.404000</td>\n",
       "      <td>1.037000</td>\n",
       "      <td>1.300000</td>\n",
       "    </tr>\n",
       "    <tr>\n",
       "      <th>std</th>\n",
       "      <td>1.257638</td>\n",
       "      <td>12.058814</td>\n",
       "      <td>1.08312</td>\n",
       "      <td>2.744439</td>\n",
       "      <td>2822.736876</td>\n",
       "      <td>1.580023</td>\n",
       "      <td>1.208306</td>\n",
       "      <td>1.118715</td>\n",
       "      <td>0.70808</td>\n",
       "      <td>0.477706</td>\n",
       "      <td>...</td>\n",
       "      <td>1.050209</td>\n",
       "      <td>11.375469</td>\n",
       "      <td>0.705601</td>\n",
       "      <td>0.531264</td>\n",
       "      <td>0.577654</td>\n",
       "      <td>0.653614</td>\n",
       "      <td>0.362086</td>\n",
       "      <td>0.490943</td>\n",
       "      <td>0.188856</td>\n",
       "      <td>0.458487</td>\n",
       "    </tr>\n",
       "    <tr>\n",
       "      <th>min</th>\n",
       "      <td>1.000000</td>\n",
       "      <td>4.000000</td>\n",
       "      <td>0.00000</td>\n",
       "      <td>0.000000</td>\n",
       "      <td>250.000000</td>\n",
       "      <td>1.000000</td>\n",
       "      <td>1.000000</td>\n",
       "      <td>1.000000</td>\n",
       "      <td>1.00000</td>\n",
       "      <td>1.000000</td>\n",
       "      <td>...</td>\n",
       "      <td>1.000000</td>\n",
       "      <td>19.000000</td>\n",
       "      <td>1.000000</td>\n",
       "      <td>1.000000</td>\n",
       "      <td>1.000000</td>\n",
       "      <td>1.000000</td>\n",
       "      <td>1.000000</td>\n",
       "      <td>1.000000</td>\n",
       "      <td>1.000000</td>\n",
       "      <td>1.000000</td>\n",
       "    </tr>\n",
       "    <tr>\n",
       "      <th>25%</th>\n",
       "      <td>1.000000</td>\n",
       "      <td>12.000000</td>\n",
       "      <td>2.00000</td>\n",
       "      <td>1.000000</td>\n",
       "      <td>1365.500000</td>\n",
       "      <td>1.000000</td>\n",
       "      <td>3.000000</td>\n",
       "      <td>2.000000</td>\n",
       "      <td>2.00000</td>\n",
       "      <td>1.000000</td>\n",
       "      <td>...</td>\n",
       "      <td>1.000000</td>\n",
       "      <td>27.000000</td>\n",
       "      <td>3.000000</td>\n",
       "      <td>2.000000</td>\n",
       "      <td>1.000000</td>\n",
       "      <td>3.000000</td>\n",
       "      <td>1.000000</td>\n",
       "      <td>1.000000</td>\n",
       "      <td>1.000000</td>\n",
       "      <td>1.000000</td>\n",
       "    </tr>\n",
       "    <tr>\n",
       "      <th>50%</th>\n",
       "      <td>2.000000</td>\n",
       "      <td>18.000000</td>\n",
       "      <td>2.00000</td>\n",
       "      <td>2.000000</td>\n",
       "      <td>2319.500000</td>\n",
       "      <td>1.000000</td>\n",
       "      <td>3.000000</td>\n",
       "      <td>3.000000</td>\n",
       "      <td>3.00000</td>\n",
       "      <td>1.000000</td>\n",
       "      <td>...</td>\n",
       "      <td>2.000000</td>\n",
       "      <td>33.000000</td>\n",
       "      <td>3.000000</td>\n",
       "      <td>2.000000</td>\n",
       "      <td>1.000000</td>\n",
       "      <td>3.000000</td>\n",
       "      <td>1.000000</td>\n",
       "      <td>1.000000</td>\n",
       "      <td>1.000000</td>\n",
       "      <td>1.000000</td>\n",
       "    </tr>\n",
       "    <tr>\n",
       "      <th>75%</th>\n",
       "      <td>4.000000</td>\n",
       "      <td>24.000000</td>\n",
       "      <td>4.00000</td>\n",
       "      <td>3.000000</td>\n",
       "      <td>3972.250000</td>\n",
       "      <td>3.000000</td>\n",
       "      <td>5.000000</td>\n",
       "      <td>4.000000</td>\n",
       "      <td>3.00000</td>\n",
       "      <td>1.000000</td>\n",
       "      <td>...</td>\n",
       "      <td>3.000000</td>\n",
       "      <td>42.000000</td>\n",
       "      <td>3.000000</td>\n",
       "      <td>2.000000</td>\n",
       "      <td>2.000000</td>\n",
       "      <td>3.000000</td>\n",
       "      <td>1.000000</td>\n",
       "      <td>2.000000</td>\n",
       "      <td>1.000000</td>\n",
       "      <td>2.000000</td>\n",
       "    </tr>\n",
       "    <tr>\n",
       "      <th>max</th>\n",
       "      <td>4.000000</td>\n",
       "      <td>72.000000</td>\n",
       "      <td>4.00000</td>\n",
       "      <td>10.000000</td>\n",
       "      <td>18424.000000</td>\n",
       "      <td>5.000000</td>\n",
       "      <td>5.000000</td>\n",
       "      <td>4.000000</td>\n",
       "      <td>4.00000</td>\n",
       "      <td>3.000000</td>\n",
       "      <td>...</td>\n",
       "      <td>4.000000</td>\n",
       "      <td>75.000000</td>\n",
       "      <td>3.000000</td>\n",
       "      <td>3.000000</td>\n",
       "      <td>4.000000</td>\n",
       "      <td>4.000000</td>\n",
       "      <td>2.000000</td>\n",
       "      <td>2.000000</td>\n",
       "      <td>2.000000</td>\n",
       "      <td>2.000000</td>\n",
       "    </tr>\n",
       "  </tbody>\n",
       "</table>\n",
       "<p>8 rows × 21 columns</p>\n",
       "</div>"
      ],
      "text/plain": [
       "                C1           N1          C2           C3            N2  \\\n",
       "count  1000.000000  1000.000000  1000.00000  1000.000000   1000.000000   \n",
       "mean      2.577000    20.903000     2.54500     2.828000   3271.258000   \n",
       "std       1.257638    12.058814     1.08312     2.744439   2822.736876   \n",
       "min       1.000000     4.000000     0.00000     0.000000    250.000000   \n",
       "25%       1.000000    12.000000     2.00000     1.000000   1365.500000   \n",
       "50%       2.000000    18.000000     2.00000     2.000000   2319.500000   \n",
       "75%       4.000000    24.000000     4.00000     3.000000   3972.250000   \n",
       "max       4.000000    72.000000     4.00000    10.000000  18424.000000   \n",
       "\n",
       "                C4           C5           N3        C5.1           C6  ...  \\\n",
       "count  1000.000000  1000.000000  1000.000000  1000.00000  1000.000000  ...   \n",
       "mean      2.105000     3.384000     2.973000     2.68200     1.145000  ...   \n",
       "std       1.580023     1.208306     1.118715     0.70808     0.477706  ...   \n",
       "min       1.000000     1.000000     1.000000     1.00000     1.000000  ...   \n",
       "25%       1.000000     3.000000     2.000000     2.00000     1.000000  ...   \n",
       "50%       1.000000     3.000000     3.000000     3.00000     1.000000  ...   \n",
       "75%       3.000000     5.000000     4.000000     3.00000     1.000000  ...   \n",
       "max       5.000000     5.000000     4.000000     4.00000     3.000000  ...   \n",
       "\n",
       "                C7           N5           C8           C9           N6  \\\n",
       "count  1000.000000  1000.000000  1000.000000  1000.000000  1000.000000   \n",
       "mean      2.358000    35.546000     2.675000     1.929000     1.407000   \n",
       "std       1.050209    11.375469     0.705601     0.531264     0.577654   \n",
       "min       1.000000    19.000000     1.000000     1.000000     1.000000   \n",
       "25%       1.000000    27.000000     3.000000     2.000000     1.000000   \n",
       "50%       2.000000    33.000000     3.000000     2.000000     1.000000   \n",
       "75%       3.000000    42.000000     3.000000     2.000000     2.000000   \n",
       "max       4.000000    75.000000     3.000000     3.000000     4.000000   \n",
       "\n",
       "               C10           N7          C11          C12        LABEL  \n",
       "count  1000.000000  1000.000000  1000.000000  1000.000000  1000.000000  \n",
       "mean      2.904000     1.155000     1.404000     1.037000     1.300000  \n",
       "std       0.653614     0.362086     0.490943     0.188856     0.458487  \n",
       "min       1.000000     1.000000     1.000000     1.000000     1.000000  \n",
       "25%       3.000000     1.000000     1.000000     1.000000     1.000000  \n",
       "50%       3.000000     1.000000     1.000000     1.000000     1.000000  \n",
       "75%       3.000000     1.000000     2.000000     1.000000     2.000000  \n",
       "max       4.000000     2.000000     2.000000     2.000000     2.000000  \n",
       "\n",
       "[8 rows x 21 columns]"
      ]
     },
     "execution_count": 9,
     "metadata": {},
     "output_type": "execute_result"
    }
   ],
   "source": [
    "# statistics of numerical features\n",
    "tab.describe()"
   ]
  },
  {
   "cell_type": "code",
   "execution_count": 10,
   "metadata": {},
   "outputs": [
    {
     "data": {
      "text/plain": [
       "array([[<matplotlib.axes._subplots.AxesSubplot object at 0x10efcbc18>,\n",
       "        <matplotlib.axes._subplots.AxesSubplot object at 0x124201358>,\n",
       "        <matplotlib.axes._subplots.AxesSubplot object at 0x12422d668>,\n",
       "        <matplotlib.axes._subplots.AxesSubplot object at 0x124256978>,\n",
       "        <matplotlib.axes._subplots.AxesSubplot object at 0x12427dc88>],\n",
       "       [<matplotlib.axes._subplots.AxesSubplot object at 0x12427dcc0>,\n",
       "        <matplotlib.axes._subplots.AxesSubplot object at 0x1242d69e8>,\n",
       "        <matplotlib.axes._subplots.AxesSubplot object at 0x1243070b8>,\n",
       "        <matplotlib.axes._subplots.AxesSubplot object at 0x12432d748>,\n",
       "        <matplotlib.axes._subplots.AxesSubplot object at 0x124354dd8>],\n",
       "       [<matplotlib.axes._subplots.AxesSubplot object at 0x1243864a8>,\n",
       "        <matplotlib.axes._subplots.AxesSubplot object at 0x1243aab38>,\n",
       "        <matplotlib.axes._subplots.AxesSubplot object at 0x1243db208>,\n",
       "        <matplotlib.axes._subplots.AxesSubplot object at 0x124405898>,\n",
       "        <matplotlib.axes._subplots.AxesSubplot object at 0x12442bf28>],\n",
       "       [<matplotlib.axes._subplots.AxesSubplot object at 0x12445c5f8>,\n",
       "        <matplotlib.axes._subplots.AxesSubplot object at 0x124485c88>,\n",
       "        <matplotlib.axes._subplots.AxesSubplot object at 0x1244b5358>,\n",
       "        <matplotlib.axes._subplots.AxesSubplot object at 0x1244dc9e8>,\n",
       "        <matplotlib.axes._subplots.AxesSubplot object at 0x12450f0b8>],\n",
       "       [<matplotlib.axes._subplots.AxesSubplot object at 0x124536748>,\n",
       "        <matplotlib.axes._subplots.AxesSubplot object at 0x12455edd8>,\n",
       "        <matplotlib.axes._subplots.AxesSubplot object at 0x12458d4a8>,\n",
       "        <matplotlib.axes._subplots.AxesSubplot object at 0x1245b6b38>,\n",
       "        <matplotlib.axes._subplots.AxesSubplot object at 0x1245e7208>]],\n",
       "      dtype=object)"
      ]
     },
     "execution_count": 10,
     "metadata": {},
     "output_type": "execute_result"
    },
    {
     "data": {
      "image/png": "[encoded data removed]",
      "text/plain": [
       "<Figure size 1152x1440 with 25 Axes>"
      ]
     },
     "metadata": {
      "needs_background": "light"
     },
     "output_type": "display_data"
    }
   ],
   "source": [
    "# histograms\n",
    "tab.hist(figsize=(16, 20))"
   ]
  },
  {
   "cell_type": "code",
   "execution_count": 11,
   "metadata": {},
   "outputs": [
    {
     "data": {
      "text/plain": [
       "1    700\n",
       "2    300\n",
       "Name: LABEL, dtype: int64"
      ]
     },
     "execution_count": 11,
     "metadata": {},
     "output_type": "execute_result"
    }
   ],
   "source": [
    "tab.LABEL.value_counts()\n",
    "# output distribution is slightly unbalanced\n"
   ]
  },
  {
   "cell_type": "code",
   "execution_count": 12,
   "metadata": {},
   "outputs": [],
   "source": [
    "# subtract by 1 to have 1 for positive cases and 0 for negative cases\n",
    "tab.LABEL = tab.LABEL - 1"
   ]
  },
  {
   "cell_type": "code",
   "execution_count": 13,
   "metadata": {},
   "outputs": [
    {
     "data": {
      "text/plain": [
       "<matplotlib.axes._subplots.AxesSubplot at 0x1246d5908>"
      ]
     },
     "execution_count": 13,
     "metadata": {},
     "output_type": "execute_result"
    },
    {
     "data": {
      "image/png": "[encoded data removed]",
      "text/plain": [
       "<Figure size 432x288 with 2 Axes>"
      ]
     },
     "metadata": {
      "needs_background": "light"
     },
     "output_type": "display_data"
    }
   ],
   "source": [
    "sns.heatmap(tab.corr())\n",
    "# there are no variables that are so correlated that we can exclude"
   ]
  },
  {
   "cell_type": "code",
   "execution_count": 14,
   "metadata": {},
   "outputs": [
    {
     "data": {
      "image/png": "[encoded data removed]",
      "text/plain": [
       "<Figure size 1152x864 with 18 Axes>"
      ]
     },
     "metadata": {
      "needs_background": "light"
     },
     "output_type": "display_data"
    }
   ],
   "source": [
    "# output distribution for each attribute value except for clearly continuous attributes (N!,N2,N5)\n",
    "aux = tab.columns[np.isin(tab.columns,['N1','N2','N5','LABEL'])==False]\n",
    "fig, saxis = plt.subplots(ceil(len(aux)/3), 3,figsize=(16,12))\n",
    "v_count = 0\n",
    "for a in aux:\n",
    "    fig = sns.barplot(x=a,y='LABEL',data=tab, ax = saxis[(v_count//3),(v_count%3)])\n",
    "    saxis[(v_count//3),(v_count%3)].set_title(a)\n",
    "    v_count = v_count + 1\n",
    "\n",
    "# some have gradual association with output, or almost non-existent association\n",
    "# however, other attributes have irregular association. For instance, in C3 6 have high % while 8 has low and 9 has high also\n",
    "# for these situations it may beneficial to use one hot encoding for some methods (e.g., neural networks, logistic regression)\n",
    "class_ohe = [\"C3\",\"C4\",\"C6\",\"C9\",\"C10\",\"N6\"]\n",
    "# I choose xgboost to model this use case. One hot encoding is not important for this method so I didn't apply it.\n"
   ]
  },
  {
   "cell_type": "code",
   "execution_count": 15,
   "metadata": {},
   "outputs": [],
   "source": [
    "# separate input variables and output\n",
    "tabX = tab.drop(columns=\"LABEL\").copy()\n",
    "tabY = tab.LABEL.copy()\n"
   ]
  },
  {
   "cell_type": "code",
   "execution_count": 16,
   "metadata": {},
   "outputs": [],
   "source": [
    "# create evaluation scheme\n",
    "# 25% for testing, 5 fold cross~validation to select hyperparameters\n",
    "\n",
    "num_row = tab.shape[0]\n",
    "nseed = 321 # for reproducibility\n",
    "n_folds = 5 # set folds for out-of-fold prediction\n",
    "k_fold = StratifiedKFold(n_splits= n_folds, shuffle=True, random_state=nseed)\n",
    "\n",
    "X_train, X_test, y_train, y_test = train_test_split(tabX, tabY, stratify=tabY, test_size=0.25, random_state=nseed)"
   ]
  },
  {
   "cell_type": "code",
   "execution_count": 17,
   "metadata": {},
   "outputs": [],
   "source": [
    "# since this is a binary classification problem, I choose the binary:logistic objective function.\n",
    "# I preferred \"auc\"(ROC AUC) relatively to \"error\" as evaluation metric because it is a measure that do not assume \n",
    "# an unique decision value like \"error\"\n",
    "params_xgb = {'eta':0.05,\n",
    "'min_child_weight':3,\n",
    "'max_depth':3,\n",
    "'subsample':1.0,\n",
    "'colsample_bytree':0.7,\n",
    "'objective':'binary:logistic',\n",
    "'eval_metric':'auc'} \n"
   ]
  },
  {
   "cell_type": "code",
   "execution_count": 18,
   "metadata": {},
   "outputs": [],
   "source": [
    "# sets of hyperparameters to evaluate and select using grid search\n",
    "param_xgboost = {\n",
    " 'max_depth':[3,4,5],\n",
    " 'min_child_weight':[3,4,5],\n",
    "'eta':[0.01,0.05,0.1],\n",
    "    'subsample':[0.6,0.8,1],\n",
    "    'colsample_bytree':[0.6,0.8,1]\n",
    "}\n"
   ]
  },
  {
   "cell_type": "code",
   "execution_count": 19,
   "metadata": {},
   "outputs": [],
   "source": [
    "# create train and test datasets for xgboost\n",
    "dtrain = xgb.DMatrix(X_train, label=y_train)\n",
    "dtest = xgb.DMatrix(X_test)"
   ]
  },
  {
   "cell_type": "code",
   "execution_count": 20,
   "metadata": {},
   "outputs": [],
   "source": [
    "# select the best hyperparameters for xgboost in training dataset\n",
    "def grid_search_xgb(grid_params,df_train,kf):\n",
    "    allNames = sorted(grid_params)\n",
    "    combinations = it.product(*(grid_params[Name] for Name in allNames))\n",
    "    comb_params = [dict(zip(allNames,a)) for a in combinations]\n",
    "    best_score = 0\n",
    "    best_params = comb_params[0]\n",
    "    for p in comb_params:\n",
    "        p.update( {'objective':'binary:logistic','eval_metric':'auc'})\n",
    "        cv_res = xgb.cv(p,df_train,folds=kf,num_boost_round=1000,early_stopping_rounds=50,verbose_eval=False)\n",
    "        c_score = cv_res[['test-auc-mean']].max().values[0]\n",
    "        if best_score<c_score:\n",
    "            best_score=c_score\n",
    "            best_params = p\n",
    "    return best_params, best_score"
   ]
  },
  {
   "cell_type": "code",
   "execution_count": 21,
   "metadata": {},
   "outputs": [
    {
     "name": "stdout",
     "output_type": "stream",
     "text": [
      "0.8036823999999999\n",
      "{'colsample_bytree': 1, 'eta': 0.05, 'max_depth': 5, 'min_child_weight': 3, 'subsample': 0.6, 'objective': 'binary:logistic', 'eval_metric': 'auc'}\n"
     ]
    }
   ],
   "source": [
    "best_params, best_score = grid_search_xgb(param_xgboost,dtrain,k_fold)\n",
    "print(best_score)\n",
    "print(best_params)"
   ]
  },
  {
   "cell_type": "code",
   "execution_count": 22,
   "metadata": {},
   "outputs": [],
   "source": [
    "def create_model(prms, df_train,kf):\n",
    "    cv_res = xgb.cv(prms,df_train,folds=kf,num_boost_round=10000,early_stopping_rounds=50,verbose_eval=False)\n",
    "    xgb_model = xgb.train(prms, df_train, num_boost_round=cv_res.shape[0])\n",
    "    return xgb_model\n"
   ]
  },
  {
   "cell_type": "code",
   "execution_count": 23,
   "metadata": {},
   "outputs": [],
   "source": [
    "xgb_model = create_model(best_params,dtrain,k_fold)"
   ]
  },
  {
   "cell_type": "code",
   "execution_count": 24,
   "metadata": {},
   "outputs": [],
   "source": [
    "y_pred = xgb_model.predict(dtest)\n"
   ]
  },
  {
   "cell_type": "code",
   "execution_count": 25,
   "metadata": {},
   "outputs": [
    {
     "data": {
      "text/plain": [
       "<matplotlib.axes._subplots.AxesSubplot at 0x125cbecc0>"
      ]
     },
     "execution_count": 25,
     "metadata": {},
     "output_type": "execute_result"
    },
    {
     "data": {
      "image/png": "[encoded data removed]",
      "text/plain": [
       "<Figure size 432x288 with 1 Axes>"
      ]
     },
     "metadata": {
      "needs_background": "light"
     },
     "output_type": "display_data"
    }
   ],
   "source": [
    "# feature importance\n",
    "xgb.plot_importance(xgb_model)"
   ]
  },
  {
   "cell_type": "code",
   "execution_count": 26,
   "metadata": {},
   "outputs": [],
   "source": [
    "# evaluation: \n",
    "# - plot for ROC and Precision Recall Curve\n",
    "# - AUC ROC\n",
    "# - maximum F1 score and assuming this value:\n",
    "# -      threshold\n",
    "# -      precision\n",
    "# -      recall\n",
    "# -      accuracy\n",
    "def evaluation(yTest,yPred):\n",
    "    fpr, tpr, thresholds = metrics.roc_curve(yTest,yPred)\n",
    "    plt.plot(fpr, tpr, marker='.', label='Classification')\n",
    "    plt.xlabel('False Positive Rate')\n",
    "    plt.ylabel('True Positive Rate')\n",
    "    plt.title('ROC')\n",
    "    plt.legend()\n",
    "    plt.show()\n",
    "    precision, recall, thresholds = metrics.precision_recall_curve(yTest,yPred)\n",
    "    plt.plot(recall, precision, marker='.', label='Classification')\n",
    "    plt.xlabel('Recall')\n",
    "    plt.ylabel('Precision')\n",
    "    plt.title('Precision Recall Curve')\n",
    "    plt.legend()\n",
    "    plt.show()\n",
    "    print('AUC ROC: ',metrics.roc_auc_score(yTest,yPred))\n",
    "    f1_score = 2*recall*precision/(recall+precision)\n",
    "    v_ind = np.argmax(f1_score)\n",
    "    print('Max F1-Score: ', f1_score[v_ind])\n",
    "    print('Threshold: ', thresholds[v_ind])\n",
    "    print('Precision: ', precision[v_ind])\n",
    "    print('Recall: ', recall[v_ind])\n",
    "    thrs = thresholds[v_ind]\n",
    "    pred_label = yPred.copy()\n",
    "    pred_label[yPred<thrs] = 0\n",
    "    pred_label[yPred>=thrs] = 1\n",
    "    print('Accuracy: ',metrics.accuracy_score(yTest,pred_label))\n",
    "\n",
    "    "
   ]
  },
  {
   "cell_type": "code",
   "execution_count": 27,
   "metadata": {},
   "outputs": [
    {
     "data": {
      "image/png": "[encoded data removed]",
      "text/plain": [
       "<Figure size 432x288 with 1 Axes>"
      ]
     },
     "metadata": {
      "needs_background": "light"
     },
     "output_type": "display_data"
    },
    {
     "data": {
      "image/png": "[encoded data removed]",
      "text/plain": [
       "<Figure size 432x288 with 1 Axes>"
      ]
     },
     "metadata": {
      "needs_background": "light"
     },
     "output_type": "display_data"
    },
    {
     "name": "stdout",
     "output_type": "stream",
     "text": [
      "AUC ROC:  0.7683047619047618\n",
      "Max F1-Score:  0.6031746031746031\n",
      "Threshold:  0.22746389\n",
      "Precision:  0.5\n",
      "Recall:  0.76\n",
      "Accuracy:  0.7\n"
     ]
    }
   ],
   "source": [
    "evaluation(y_test,y_pred)"
   ]
  },
  {
   "cell_type": "code",
   "execution_count": 28,
   "metadata": {},
   "outputs": [],
   "source": [
    "# Test set: AUC 0.768, maximum F1 score is 0.6. For this F1 score, we obtain 50% precision and 76% recall \n",
    "# for the positive class and the overall accuracy is 70%."
   ]
  },
  {
   "cell_type": "code",
   "execution_count": 29,
   "metadata": {},
   "outputs": [],
   "source": [
    "# save model\n",
    "# xgb_model.save_model(\"challenge.model\")\n",
    "pickle.dump(xgb_model, open(\"challenge.pkl\", \"wb\"))"
   ]
  },
  {
   "cell_type": "code",
   "execution_count": null,
   "metadata": {},
   "outputs": [],
   "source": []
  }
 ],
 "metadata": {
  "kernelspec": {
   "display_name": "Python 3",
   "language": "python",
   "name": "python3"
  },
  "language_info": {
   "codemirror_mode": {
    "name": "ipython",
    "version": 3
   },
   "file_extension": ".py",
   "mimetype": "text/x-python",
   "name": "python",
   "nbconvert_exporter": "python",
   "pygments_lexer": "ipython3",
   "version": "3.6.7"
  }
 },
 "nbformat": 4,
 "nbformat_minor": 2
}
